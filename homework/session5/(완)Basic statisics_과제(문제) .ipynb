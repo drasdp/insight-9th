{
 "cells": [
  {
   "cell_type": "markdown",
   "id": "39ecc0b2",
   "metadata": {},
   "source": [
    "# 통계 세션 과제!"
   ]
  },
  {
   "cell_type": "markdown",
   "id": "6133a28a",
   "metadata": {},
   "source": [
    "## 과제 1\n",
    "- list_A와 list_B 각각의 평균, 분산, 중간값을 구하시오\n",
    "- list_A와 list_B의 공분산, 상관계수를 구하시오\n",
    "<br><br>HINT!\n",
    "<br>1. 공분산, 상관계수 구할때 둘을 합쳐서 데이터프레임으로 만들고 해보세요!\n",
    "<br>2. 공분산과 상관계수는 어떤 값이지 데이터프레임 형태가 아닙니다!"
   ]
  },
  {
   "cell_type": "code",
   "execution_count": 2,
   "id": "8c274c72",
   "metadata": {
    "ExecuteTime": {
     "end_time": "2023-03-19T16:03:52.663039Z",
     "start_time": "2023-03-19T16:03:52.649072Z"
    }
   },
   "outputs": [],
   "source": [
    "list_A = [10, 3, 6, 17, 12, 1, 14, 19, 7, 15, 3, 4, 15, 8, 5, 13, 11, 2, 20, 16]\n",
    "list_B = [17, 2, 6, 14, 10, 16, 1, 8, 3, 7, 7, 12, 20, 18, 4, 11, 5, 19, 15, 9]"
   ]
  },
  {
   "cell_type": "code",
   "execution_count": 41,
   "id": "c2c6e9d2",
   "metadata": {},
   "outputs": [
    {
     "name": "stdout",
     "output_type": "stream",
     "text": [
      "2.147368421052631\n",
      "0.060528972352169544\n",
      "0.06052897235216954\n"
     ]
    }
   ],
   "source": [
    "import statistics\n",
    "import numpy as np\n",
    "import math \n",
    "\n",
    "#평균\n",
    "mean_A = sum(list_A) / len(list_A)\n",
    "mean_B = sum(list_B) / len(list_B)\n",
    "\n",
    "#분산\n",
    "var_A = statistics.variance(list_A)\n",
    "var_B = statistics.variance(list_B)\n",
    "#표준편차\n",
    "std_A = math.sqrt(var_A)\n",
    "std_B = math.sqrt(var_B)\n",
    "\n",
    "#중간값\n",
    "median_A = statistics.median(list_A)\n",
    "median_B = statistics.median(list_B)\n",
    "\n",
    "#공분산\n",
    "# Cov(X, Y) = Σ[(X - μ_X) × (Y - μ_Y)] / (n - 1)\n",
    "cov = np.cov(list_A, list_B, ddof=1)[0][1]\n",
    "\n",
    "#상관계수\n",
    "# correlation = covariance / (std_deviation_x * std_deviation_y)\n",
    "corr = np.corrcoef(list_A, list_B)[0][1]\n",
    "corr_2 = cov / (std_A * std_B)\n",
    "print(cov)\n",
    "print(corr)\n",
    "print(corr_2)"
   ]
  },
  {
   "cell_type": "markdown",
   "id": "6e13ebc5",
   "metadata": {},
   "source": [
    "## 과제 2\n",
    "- 표본집단의 크기가 커지면 그 표본평균이 모평균에 가까워지는 현상을 무엇이라고 하나요?"
   ]
  },
  {
   "cell_type": "code",
   "execution_count": 44,
   "id": "0f2e968a",
   "metadata": {},
   "outputs": [
    {
     "name": "stdout",
     "output_type": "stream",
     "text": [
      "대수의 법칙\n"
     ]
    }
   ],
   "source": [
    "print('대수의 법칙')"
   ]
  },
  {
   "cell_type": "markdown",
   "id": "1607fd28",
   "metadata": {},
   "source": [
    "## 과제 3\n",
    "- 이산확률분포 예시 1개, 연속확률분포 예시 1개를 적어주세요!"
   ]
  },
  {
   "cell_type": "code",
   "execution_count": null,
   "id": "a2a33ded",
   "metadata": {},
   "outputs": [],
   "source": [
    "print(\"N개의 동전을 던졌을 때 X 개의 앞면이 나오는 분포. : 이항분포\")\n",
    "print(\"전체 인류의 키에 대한 분포 : 연속적인 실수(정규분포)\")"
   ]
  },
  {
   "cell_type": "markdown",
   "id": "cdfbc28d",
   "metadata": {},
   "source": [
    "## 과제 4\n",
    "OX문제\n",
    "- 3-(1)번 : 귀무가설이 참임에도 거짓이라고 판단하는 오류를 제 2종 오류라고 한다 (O / X)\n",
    "- 3-(2)번 : 모집단이 이항 분포일때 그 모집단에서 추출한 표본 10000개의 각 평균들이 이루는 분포는 이항분포이다. (O / X)\n",
    "- 3-(3)번 : 검정 통계량 T가 매우 크면 귀무가설을 기각한다 (O / X)\n",
    "- 3-(4)번 : 1종 오류를 작게끔 설정하면 2종 오류가 커진다 (O / X)\n",
    "- 3-(5)번 : p-value가 유의수준보다 크면 귀무가설을 기각한다  (O / X)"
   ]
  },
  {
   "cell_type": "code",
   "execution_count": 45,
   "id": "907bdca0",
   "metadata": {},
   "outputs": [
    {
     "name": "stdout",
     "output_type": "stream",
     "text": [
      "X X O O X\n"
     ]
    }
   ],
   "source": [
    "print(\"X X O O X\")\n",
    "# 2종 오류 : H0이 거짓인데 채택하는 오류\n",
    "# 정규분포(중심극한정리)\n",
    "# T가 극단적으로 크다면 p-value는 유의수준보다 작아져서 귀무가설이 기각될 가능성이 높아지게 된다.\n",
    "# 1종 오류와 2종 오류는 반비례한다.\n",
    "# p-value가 유의수준보다 클 시엔 귀무가설을 채택한다."
   ]
  },
  {
   "cell_type": "markdown",
   "id": "f0d8b9ca",
   "metadata": {},
   "source": [
    "## 과제 5\n",
    "- 아래 코드의 결과대로면 광고 전략은 실패했는지, 실패하지 않았는지 검정하시오"
   ]
  },
  {
   "cell_type": "code",
   "execution_count": 46,
   "id": "ba4bf1ae",
   "metadata": {
    "ExecuteTime": {
     "end_time": "2023-03-19T16:31:49.926579Z",
     "start_time": "2023-03-19T16:31:49.906631Z"
    }
   },
   "outputs": [
    {
     "name": "stdout",
     "output_type": "stream",
     "text": [
      "t_stat : 2.079102000331699, p_value : 0.042863871998196565\n",
      "광고전략이 실패한 것이 아니다\n"
     ]
    }
   ],
   "source": [
    "import numpy as np\n",
    "import scipy.stats as stats\n",
    "\n",
    "# 실험 데이터 생성 \n",
    "np.random.seed(42)\n",
    "data = np.random.normal(loc=2, scale=1, size=50)\n",
    "\n",
    "# 귀무가설(H0) : 광고 전략이 실패한 것이 아니다\n",
    "# 대립가설(H1) : 광고 전략이 실패했다\n",
    "\n",
    "# 유의수준 설정\n",
    "alpha = 0.01\n",
    "\n",
    "# 검정 통계량 계산\n",
    "t_stat, p_value = stats.ttest_1samp(data, 1.5)\n",
    "print(f't_stat : {t_stat}, p_value : {p_value}')\n",
    "\n",
    "print(\"광고전략이 실패한 것이 아니다\")\n",
    "\n",
    "# alpha : 채택 결정 시 실수할 확률\n",
    "# p-value : 기각 결정 시 실수할 확률"
   ]
  },
  {
   "cell_type": "code",
   "execution_count": null,
   "id": "39a7e79f",
   "metadata": {},
   "outputs": [],
   "source": []
  }
 ],
 "metadata": {
  "kernelspec": {
   "display_name": "Python 3 (ipykernel)",
   "language": "python",
   "name": "python3"
  },
  "language_info": {
   "codemirror_mode": {
    "name": "ipython",
    "version": 3
   },
   "file_extension": ".py",
   "mimetype": "text/x-python",
   "name": "python",
   "nbconvert_exporter": "python",
   "pygments_lexer": "ipython3",
   "version": "3.9.13"
  },
  "toc": {
   "base_numbering": 1,
   "nav_menu": {},
   "number_sections": true,
   "sideBar": true,
   "skip_h1_title": false,
   "title_cell": "Table of Contents",
   "title_sidebar": "Contents",
   "toc_cell": false,
   "toc_position": {},
   "toc_section_display": true,
   "toc_window_display": false
  }
 },
 "nbformat": 4,
 "nbformat_minor": 5
}
